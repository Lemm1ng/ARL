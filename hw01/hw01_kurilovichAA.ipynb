{
 "cells": [
  {
   "cell_type": "code",
   "execution_count": 1,
   "id": "92e252af",
   "metadata": {},
   "outputs": [],
   "source": [
    "from gym.envs.toy_text import BlackjackEnv\n",
    "import gym\n",
    "import matplotlib.pyplot as plt\n",
    "from tqdm.notebook import tqdm\n",
    "import numpy as np\n"
   ]
  },
  {
   "cell_type": "code",
   "execution_count": 2,
   "id": "617ad0a7",
   "metadata": {},
   "outputs": [],
   "source": [
    "def plot_state(env):\n",
    "    env_screen = env.render()\n",
    "    fig = plt.figure(figsize=(10, 10), dpi=40)\n",
    "    ax = fig.add_subplot() \n",
    "    ax.imshow(env_screen, interpolation=None)\n",
    "    plt.axis(\"off\")\n",
    "    plt.grid(visible=None)\n",
    "    plt.show()"
   ]
  },
  {
   "cell_type": "markdown",
   "id": "817127fc",
   "metadata": {},
   "source": [
    "## 1 Блэкджек и стратегии\n",
    "### 1.1 Очень простая стратегия"
   ]
  },
  {
   "cell_type": "code",
   "execution_count": 3,
   "id": "d599a217",
   "metadata": {},
   "outputs": [
    {
     "data": {
      "application/vnd.jupyter.widget-view+json": {
       "model_id": "b5551bbcaa2d4f76a3ef6a665329098e",
       "version_major": 2,
       "version_minor": 0
      },
      "text/plain": [
       "  0%|          | 0/100000 [00:00<?, ?it/s]"
      ]
     },
     "metadata": {},
     "output_type": "display_data"
    },
    {
     "name": "stdout",
     "output_type": "stream",
     "text": [
      "Средний выигрыш для данной стратегии: -0.20114\n"
     ]
    }
   ],
   "source": [
    "env = gym.make('Blackjack-v1', render_mode=\"rgb_array\")\n",
    "\n",
    "N_EPISODES = int(1e5)\n",
    "\n",
    "def simple_strategy(state):\n",
    "    if state[0] in [19, 20, 21]:\n",
    "        return 0\n",
    "    else:\n",
    "        return 1\n",
    "\n",
    "    \n",
    "mean_reward = 0    \n",
    "for _ in tqdm(range(N_EPISODES)):\n",
    "    state, _ = env.reset()\n",
    "    done = False\n",
    "    while not done:\n",
    "        state, reward, done, desc, _  = env.step(simple_strategy(state))\n",
    "        mean_reward += int(reward)\n",
    "    \n",
    "mean_reward = float(mean_reward) / N_EPISODES\n",
    "\n",
    "print(f\"Средний выигрыш для данной стратегии: {mean_reward}\")"
   ]
  },
  {
   "cell_type": "code",
   "execution_count": 4,
   "id": "6132f9fb",
   "metadata": {},
   "outputs": [
    {
     "data": {
      "text/plain": [
       "Tuple(Discrete(32), Discrete(11), Discrete(2))"
      ]
     },
     "execution_count": 4,
     "metadata": {},
     "output_type": "execute_result"
    }
   ],
   "source": [
    "env.observation_space"
   ]
  },
  {
   "cell_type": "markdown",
   "id": "ebda6f04",
   "metadata": {},
   "source": [
    "\"Обуть\" казино с такой стратегией не получится"
   ]
  },
  {
   "cell_type": "markdown",
   "id": "26680a89",
   "metadata": {},
   "source": [
    "### 1.2 Обучение с подкреплением без модели\n",
    "\n",
    "Реализовал On-Policy Monte Carlo Control для $\\epsilon-soft$ policy. Реализация - в виде класса \"спецагента\"\n",
    "Посчитан средний выигрыш по 1e6 итерациям агентов обученных на разных количествах эпизодов. Сделан перебор гиперпараметров: в нашем случае $\\epsilon$ и $\\gamma$. Результаты см. на графиках ниже"
   ]
  },
  {
   "cell_type": "code",
   "execution_count": 80,
   "id": "afa63d1c",
   "metadata": {},
   "outputs": [],
   "source": [
    "class MCControlAgent:\n",
    "    def __init__(self, eps=0.01, n_space=(32, 11, 2), n_action=2, random_state=300, gamma=1.0):\n",
    "        \n",
    "        self.n_space = n_space\n",
    "        self.n_action = n_action\n",
    "        self.gamma = gamma\n",
    "        self.eps = eps\n",
    "        \n",
    "        self.random_state = random_state\n",
    "        np.random.seed(self.random_state)\n",
    "        self.policy = np.random.randint(0, self.n_action, size=self.n_space, dtype=int)\n",
    "        \n",
    "        self.Q = np.zeros(n_space + (n_action,))\n",
    "        self.N = np.zeros(n_space + (n_action,))\n",
    "        self.R = np.zeros(n_space + (n_action,))\n",
    "        \n",
    "        \n",
    "        \n",
    "    def exploration_action(self, state):\n",
    "        \n",
    "        if np.random.uniform() <= self.eps:\n",
    "            action = np.random.randint(0, self.n_action)\n",
    "        else:\n",
    "            action = self.policy[state]\n",
    "            \n",
    "        return action\n",
    "    \n",
    "    def inference_action(self, state):\n",
    "        \n",
    "        return self.policy[state]\n",
    "    \n",
    "    def learn(self, env, n_episodes=100, verbose=True):\n",
    "        \n",
    "        for ii in tqdm(range(n_episodes), disable=not verbose):\n",
    "            state, _ = env.reset()\n",
    "            state = tuple(map(int, state))\n",
    "            done = False\n",
    "            episode = []\n",
    "            #print(f\"episode starts: {state}\")\n",
    "            while not done:\n",
    "                action = self.exploration_action(state)\n",
    "                new_state, reward, done, desc, _  = env.step(action)\n",
    "                episode.append((state + (action,), reward))\n",
    "                state = tuple(map(int, new_state))\n",
    "                \n",
    "            # Every visit MC, эквивалентен First visit MC \n",
    "            # Т. к. в данной постановке мы не должы вернуться в то же состояние после взятия карты\n",
    "            t_max = len(episode)\n",
    "            g = 0\n",
    "            for (state_action, reward) in episode[-1::-1]:\n",
    "                self.N[state_action] += 1\n",
    "                g = self.gamma * g + reward\n",
    "                self.R[state_action] += g\n",
    "                \n",
    "            self.Q[self.N > 0] = self.R[self.N > 0] / self.N[self.N > 0]\n",
    "            self.policy = np.argmax(self.Q, axis=-1)\n",
    "\n",
    "\n",
    "    def evaluate_agent(self, env, n_avg=100, verbose=True):\n",
    "        \n",
    "        np.random.seed(self.random_state + 1)\n",
    "        \n",
    "        total_reward = 0\n",
    "        for ii in tqdm(range(n_avg), disable=not verbose):\n",
    "            state, _ = env.reset()\n",
    "            state = tuple(map(int, state))\n",
    "            done = False\n",
    "            while not done:\n",
    "                action = self.inference_action(state)\n",
    "                new_state, reward, done, desc, _  = env.step(action)\n",
    "                state = tuple(map(int, new_state))\n",
    "            total_reward += reward\n",
    "            \n",
    "        return total_reward / n_avg\n",
    "    \n",
    "    \n",
    "def get_score(agent, env, n_episodes=100, n_avg=int(100000), verbose=True):\n",
    "\n",
    "    agent.learn(env, n_episodes=n_episodes, verbose=verbose)\n",
    "    return agent.evaluate_agent(env, n_avg=n_avg, verbose=verbose)\n",
    "\n",
    "\n",
    "def get_score_train_plot(agent_class,\n",
    "                         env,\n",
    "                         all_n_episodes=np.array([1, 10, 100, 1000, 10000, 100000], dtype=int),\n",
    "                         n_avg=int(1e5),\n",
    "                         eps=0.01,\n",
    "                         gamma=1.0,\n",
    "                         n_action=2,\n",
    "                         n_space=(32, 11, 2)):\n",
    "    \n",
    "    \n",
    "    mean_rewards = np.zeros(all_n_episodes.shape)\n",
    "\n",
    "    for ii in tqdm(range(all_n_episodes.size)):\n",
    "        agent = agent_class(gamma=gamma, eps=eps, n_action=n_action, n_space=n_space)\n",
    "        mean_rewards[ii] = get_score(agent, env, n_episodes=all_n_episodes[ii], n_avg=n_avg, verbose=False)\n",
    "    \n",
    "    return(mean_rewards)"
   ]
  },
  {
   "cell_type": "code",
   "execution_count": 13,
   "id": "7261afc6",
   "metadata": {
    "scrolled": true
   },
   "outputs": [
    {
     "data": {
      "application/vnd.jupyter.widget-view+json": {
       "model_id": "e89f61f1c8e54d84aee5e9f6cb21710f",
       "version_major": 2,
       "version_minor": 0
      },
      "text/plain": [
       "  0%|          | 0/1000000 [00:00<?, ?it/s]"
      ]
     },
     "metadata": {},
     "output_type": "display_data"
    }
   ],
   "source": [
    "agent = MCControlAgent(eps=0.1)\n",
    "\n",
    "agent.learn(env, n_episodes=1000_000)"
   ]
  },
  {
   "cell_type": "code",
   "execution_count": 14,
   "id": "67621c0a",
   "metadata": {
    "scrolled": false
   },
   "outputs": [
    {
     "data": {
      "application/vnd.jupyter.widget-view+json": {
       "model_id": "c47b0d882c89435b8727e54d7c69591d",
       "version_major": 2,
       "version_minor": 0
      },
      "text/plain": [
       "  0%|          | 0/100000 [00:00<?, ?it/s]"
      ]
     },
     "metadata": {},
     "output_type": "display_data"
    },
    {
     "data": {
      "text/plain": [
       "-0.04536"
      ]
     },
     "execution_count": 14,
     "metadata": {},
     "output_type": "execute_result"
    }
   ],
   "source": [
    "agent.evaluate_agent(env, n_avg=100000)"
   ]
  },
  {
   "cell_type": "code",
   "execution_count": 8,
   "id": "a46f32c1",
   "metadata": {},
   "outputs": [
    {
     "data": {
      "application/vnd.jupyter.widget-view+json": {
       "model_id": "b3dd8ef5050b4398b5e7e4c027114b61",
       "version_major": 2,
       "version_minor": 0
      },
      "text/plain": [
       "  0%|          | 0/8 [00:00<?, ?it/s]"
      ]
     },
     "metadata": {},
     "output_type": "display_data"
    },
    {
     "data": {
      "application/vnd.jupyter.widget-view+json": {
       "model_id": "51d317a73d7442309c5772946c5ee518",
       "version_major": 2,
       "version_minor": 0
      },
      "text/plain": [
       "  0%|          | 0/8 [00:00<?, ?it/s]"
      ]
     },
     "metadata": {},
     "output_type": "display_data"
    },
    {
     "data": {
      "application/vnd.jupyter.widget-view+json": {
       "model_id": "23652db441fd4ce9a421d7e8ba72954c",
       "version_major": 2,
       "version_minor": 0
      },
      "text/plain": [
       "  0%|          | 0/8 [00:00<?, ?it/s]"
      ]
     },
     "metadata": {},
     "output_type": "display_data"
    },
    {
     "data": {
      "text/plain": [
       "<matplotlib.legend.Legend at 0x206d3266350>"
      ]
     },
     "execution_count": 8,
     "metadata": {},
     "output_type": "execute_result"
    },
    {
     "data": {
      "image/png": "[encoded data removed]",
      "text/plain": [
       "<Figure size 576x288 with 1 Axes>"
      ]
     },
     "metadata": {
      "needs_background": "light"
     },
     "output_type": "display_data"
    }
   ],
   "source": [
    "%matplotlib inline\n",
    "plt.figure(figsize=(8, 4))\n",
    "plt.grid(True)\n",
    "plt.xlabel(\"n_episodes\")\n",
    "plt.ylabel(\"mean_reward\")\n",
    "plt.xscale(\"log\")\n",
    "for eps in [0.01, 0.1, 0.5]:\n",
    "    all_n_episodes = np.array([1, 10, 100, 1000, 10000, 100000, 1000000, 10000000], dtype=int)\n",
    "    mean_rewards = get_score_train_plot(MCControlAgent, env, all_n_episodes=all_n_episodes, n_avg=int(1e6), eps=eps)\n",
    "    plt.plot(all_n_episodes, mean_rewards, \".:\", label = f\"eps = {eps}\")\n",
    "    \n",
    "plt.legend()"
   ]
  },
  {
   "cell_type": "code",
   "execution_count": 22,
   "id": "e6953ae9",
   "metadata": {},
   "outputs": [
    {
     "data": {
      "application/vnd.jupyter.widget-view+json": {
       "model_id": "ba118b500fa440d488b27df4aa7c1bbe",
       "version_major": 2,
       "version_minor": 0
      },
      "text/plain": [
       "  0%|          | 0/8 [00:00<?, ?it/s]"
      ]
     },
     "metadata": {},
     "output_type": "display_data"
    },
    {
     "data": {
      "application/vnd.jupyter.widget-view+json": {
       "model_id": "d5752b7a1b89471da9f3e22e8528d823",
       "version_major": 2,
       "version_minor": 0
      },
      "text/plain": [
       "  0%|          | 0/8 [00:00<?, ?it/s]"
      ]
     },
     "metadata": {},
     "output_type": "display_data"
    },
    {
     "data": {
      "application/vnd.jupyter.widget-view+json": {
       "model_id": "c361806c921948be9883c33790ef676a",
       "version_major": 2,
       "version_minor": 0
      },
      "text/plain": [
       "  0%|          | 0/8 [00:00<?, ?it/s]"
      ]
     },
     "metadata": {},
     "output_type": "display_data"
    },
    {
     "data": {
      "text/plain": [
       "<matplotlib.legend.Legend at 0x206d4d35870>"
      ]
     },
     "execution_count": 22,
     "metadata": {},
     "output_type": "execute_result"
    },
    {
     "data": {
      "image/png": "[encoded data removed]",
      "text/plain": [
       "<Figure size 576x288 with 1 Axes>"
      ]
     },
     "metadata": {
      "needs_background": "light"
     },
     "output_type": "display_data"
    }
   ],
   "source": [
    "%matplotlib inline\n",
    "plt.figure(figsize=(8, 4))\n",
    "plt.grid(True)\n",
    "plt.xlabel(\"n_episodes\")\n",
    "plt.ylabel(\"mean_reward\")\n",
    "plt.xscale(\"log\")\n",
    "for gamma in [0.5, 0.8, 1.0]:\n",
    "    all_n_episodes = np.array([1, 10, 100, 1000, 10000, 100000, 1000000, 10000000], dtype=int)\n",
    "    mean_rewards = get_score_train_plot(MCControlAgent, env, all_n_episodes=all_n_episodes, n_avg=int(1e6), eps=0.1, gamma=gamma)\n",
    "    plt.plot(all_n_episodes, mean_rewards, \".:\",  label = f\"gamma = {gamma}; eps = 0.1\")\n",
    "    \n",
    "plt.legend()"
   ]
  },
  {
   "cell_type": "markdown",
   "id": "8be806c1",
   "metadata": {},
   "source": [
    "К сожалению, в данной постановке обыграть казино не получится. Из плюсов, алгоритм работает, проигрываем, в среднем, меньше. \n",
    "- Для этой модели влияние гиперпараметров $\\epsilon$ и $\\gamma$ не оказывает значительного результата ($\\gamma$ - понятно, а вот с $\\epsilon$ неочевидно, почему так получается). Важно заметить, что в данной реализации оценка средней награды агента проходит на другом наборе эпизодов чем при обучении. Следовательно, средняя награда может уменьшаться при обучении. Гипертрофированный пример: одинаковые эпизоды, которые агент ещ не видел при обучении и дающие нулевую награду так как случайная начальная политика предлагала брать карту когда не надо) \n",
    "\n",
    "Переходим к п. 2 с измененной постановкой"
   ]
  },
  {
   "cell_type": "markdown",
   "id": "a791f36c",
   "metadata": {},
   "source": [
    "## 2 Удвоение\n",
    "\n",
    "Будем использовать тот же алгоритм что и в п. 1. Меняем пространство S, A и окружение. Последнее получим расширив Blackjack-v1 из gym. Внизу копипаста из гитхаба по ссылке, приведенной в условии домашнего задания. Добавил action = 2 (Double)\n",
    "\n",
    "Извиняюсь за копипасту, но так проще (в том числе, проверить реализацию)"
   ]
  },
  {
   "cell_type": "code",
   "execution_count": 46,
   "id": "2811aa20",
   "metadata": {},
   "outputs": [],
   "source": [
    "import os\n",
    "from typing import Optional\n",
    "\n",
    "import numpy as np\n",
    "\n",
    "import gym\n",
    "from gym import spaces\n",
    "from gym.error import DependencyNotInstalled\n",
    "\n",
    "\n",
    "def cmp(a, b):\n",
    "    return float(a > b) - float(a < b)\n",
    "\n",
    "\n",
    "# 1 = Ace, 2-10 = Number cards, Jack/Queen/King = 10\n",
    "deck = [1, 2, 3, 4, 5, 6, 7, 8, 9, 10, 10, 10, 10]\n",
    "\n",
    "\n",
    "def draw_card(np_random):\n",
    "    return int(np_random.choice(deck))\n",
    "\n",
    "\n",
    "def draw_hand(np_random):\n",
    "    return [draw_card(np_random), draw_card(np_random)]\n",
    "\n",
    "\n",
    "def usable_ace(hand):  # Does this hand have a usable ace?\n",
    "    return 1 in hand and sum(hand) + 10 <= 21\n",
    "\n",
    "\n",
    "def sum_hand(hand):  # Return current hand total\n",
    "    if usable_ace(hand):\n",
    "        return sum(hand) + 10\n",
    "    return sum(hand)\n",
    "\n",
    "\n",
    "def is_bust(hand):  # Is this hand a bust?\n",
    "    return sum_hand(hand) > 21\n",
    "\n",
    "\n",
    "def score(hand):  # What is the score of this hand (0 if bust)\n",
    "    return 0 if is_bust(hand) else sum_hand(hand)\n",
    "\n",
    "\n",
    "def is_natural(hand):  # Is this hand a natural blackjack?\n",
    "    return sorted(hand) == [1, 10]\n",
    "\n",
    "\n",
    "class BlackjackEnvDouble(gym.Env):\n",
    "    \"\"\"\n",
    "    Blackjack is a card game where the goal is to beat the dealer by obtaining cards\n",
    "    that sum to closer to 21 (without going over 21) than the dealers cards.\n",
    "    ### Description\n",
    "    Card Values:\n",
    "    - Face cards (Jack, Queen, King) have a point value of 10.\n",
    "    - Aces can either count as 11 (called a 'usable ace') or 1.\n",
    "    - Numerical cards (2-9) have a value equal to their number.\n",
    "    This game is played with an infinite deck (or with replacement).\n",
    "    The game starts with the dealer having one face up and one face down card,\n",
    "    while the player has two face up cards.\n",
    "    The player can request additional cards (hit, action=1) until they decide to stop (stick, action=0)\n",
    "    or exceed 21 (bust, immediate loss).\n",
    "    After the player sticks, the dealer reveals their facedown card, and draws\n",
    "    until their sum is 17 or greater.  If the dealer goes bust, the player wins.\n",
    "    If neither the player nor the dealer busts, the outcome (win, lose, draw) is\n",
    "    decided by whose sum is closer to 21.\n",
    "    ### Action Space\n",
    "    There are two actions: stick (0), hit (1), and double (2).\n",
    "    ### Observation Space\n",
    "    The observation consists of a 3-tuple containing: the player's current sum,\n",
    "    the value of the dealer's one showing card (1-10 where 1 is ace),\n",
    "    and whether the player holds a usable ace (0 or 1).\n",
    "    This environment corresponds to the version of the blackjack problem\n",
    "    described in Example 5.1 in Reinforcement Learning: An Introduction\n",
    "    by Sutton and Barto (http://incompleteideas.net/book/the-book-2nd.html).\n",
    "    ### Rewards\n",
    "    - win game: +1\n",
    "    - lose game: -1\n",
    "    - draw game: 0\n",
    "    - win game with natural blackjack:\n",
    "        +1.5 (if <a href=\"#nat\">natural</a> is True)\n",
    "        +1 (if <a href=\"#nat\">natural</a> is False)\n",
    "    ### Arguments\n",
    "    ```\n",
    "    gym.make('Blackjack-v1', natural=False, sab=False)\n",
    "    ```\n",
    "    <a id=\"nat\">`natural=False`</a>: Whether to give an additional reward for\n",
    "    starting with a natural blackjack, i.e. starting with an ace and ten (sum is 21).\n",
    "    <a id=\"sab\">`sab=False`</a>: Whether to follow the exact rules outlined in the book by\n",
    "    Sutton and Barto. If `sab` is `True`, the keyword argument `natural` will be ignored.\n",
    "    If the player achieves a natural blackjack and the dealer does not, the player\n",
    "    will win (i.e. get a reward of +1). The reverse rule does not apply.\n",
    "    If both the player and the dealer get a natural, it will be a draw (i.e. reward 0).\n",
    "    ### Version History\n",
    "    * v0: Initial versions release (1.0.0)\n",
    "    \"\"\"\n",
    "\n",
    "    metadata = {\n",
    "        \"render_modes\": [\"human\", \"rgb_array\"],\n",
    "        \"render_fps\": 4,\n",
    "    }\n",
    "\n",
    "    def __init__(self, render_mode: Optional[str] = None, natural=False, sab=False):\n",
    "        self.action_space = spaces.Discrete(3, start=0)\n",
    "        self.observation_space = spaces.Tuple(\n",
    "            (spaces.Discrete(32), spaces.Discrete(11), spaces.Discrete(2))\n",
    "        )\n",
    "\n",
    "        # Flag to payout 1.5 on a \"natural\" blackjack win, like casino rules\n",
    "        # Ref: http://www.bicyclecards.com/how-to-play/blackjack/\n",
    "        self.natural = natural\n",
    "\n",
    "        # Flag for full agreement with the (Sutton and Barto, 2018) definition. Overrides self.natural\n",
    "        self.sab = sab\n",
    "\n",
    "        self.render_mode = render_mode\n",
    "\n",
    "    def step(self, action):\n",
    "        assert self.action_space.contains(action)\n",
    "        if action == 2: # Double\n",
    "            self.player.append(draw_card(self.np_random))\n",
    "            terminated = True\n",
    "            if is_bust(self.player):\n",
    "                reward = -2.0\n",
    "            else:\n",
    "                while sum_hand(self.dealer) < 17:\n",
    "                    self.dealer.append(draw_card(self.np_random))\n",
    "                reward = 2 * cmp(score(self.player), score(self.dealer))\n",
    "                \n",
    "                if self.sab and is_natural(self.player) and not is_natural(self.dealer):\n",
    "                # Player automatically wins. Rules consistent with S&B\n",
    "                    reward = 2.0\n",
    "        elif action == 1:  # hit: add a card to players hand and return\n",
    "            self.player.append(draw_card(self.np_random))\n",
    "            if is_bust(self.player):\n",
    "                terminated = True\n",
    "                reward = -1.0\n",
    "            else:\n",
    "                terminated = False\n",
    "                reward = 0.0\n",
    "        else:  # stick: play out the dealers hand, and score\n",
    "            terminated = True\n",
    "            while sum_hand(self.dealer) < 17:\n",
    "                self.dealer.append(draw_card(self.np_random))\n",
    "            reward = cmp(score(self.player), score(self.dealer))\n",
    "            if self.sab and is_natural(self.player) and not is_natural(self.dealer):\n",
    "                # Player automatically wins. Rules consistent with S&B\n",
    "                reward = 1.0\n",
    "            elif (\n",
    "                not self.sab\n",
    "                and self.natural\n",
    "                and is_natural(self.player)\n",
    "                and reward == 1.0\n",
    "            ):\n",
    "                # Natural gives extra points, but doesn't autowin. Legacy implementation\n",
    "                reward = 1.5\n",
    "\n",
    "        if self.render_mode == \"human\":\n",
    "            self.render()\n",
    "        return self._get_obs(), reward, terminated, False, {}\n",
    "\n",
    "    def _get_obs(self):\n",
    "        return (sum_hand(self.player), self.dealer[0], usable_ace(self.player))\n",
    "\n",
    "    def reset(\n",
    "        self,\n",
    "        seed: Optional[int] = None,\n",
    "        options: Optional[dict] = None,\n",
    "    ):\n",
    "        super().reset(seed=seed)\n",
    "        self.dealer = draw_hand(self.np_random)\n",
    "        self.player = draw_hand(self.np_random)\n",
    "\n",
    "        _, dealer_card_value, _ = self._get_obs()\n",
    "\n",
    "        suits = [\"C\", \"D\", \"H\", \"S\"]\n",
    "        self.dealer_top_card_suit = self.np_random.choice(suits)\n",
    "\n",
    "        if dealer_card_value == 1:\n",
    "            self.dealer_top_card_value_str = \"A\"\n",
    "        elif dealer_card_value == 10:\n",
    "            self.dealer_top_card_value_str = self.np_random.choice([\"J\", \"Q\", \"K\"])\n",
    "        else:\n",
    "            self.dealer_top_card_value_str = str(dealer_card_value)\n",
    "\n",
    "        if self.render_mode == \"human\":\n",
    "            self.render()\n",
    "        return self._get_obs(), {}\n",
    "\n",
    "    def render(self):\n",
    "        if self.render_mode is None:\n",
    "            gym.logger.warn(\n",
    "                \"You are calling render method without specifying any render mode. \"\n",
    "                \"You can specify the render_mode at initialization, \"\n",
    "                f'e.g. gym(\"{self.spec.id}\", render_mode=\"rgb_array\")'\n",
    "            )\n",
    "            return\n",
    "\n",
    "        try:\n",
    "            import pygame\n",
    "        except ImportError:\n",
    "            raise DependencyNotInstalled(\n",
    "                \"pygame is not installed, run `pip install gym[toy_text]`\"\n",
    "            )\n",
    "\n",
    "        player_sum, dealer_card_value, usable_ace = self._get_obs()\n",
    "        screen_width, screen_height = 600, 500\n",
    "        card_img_height = screen_height // 3\n",
    "        card_img_width = int(card_img_height * 142 / 197)\n",
    "        spacing = screen_height // 20\n",
    "\n",
    "        bg_color = (7, 99, 36)\n",
    "        white = (255, 255, 255)\n",
    "\n",
    "        if not hasattr(self, \"screen\"):\n",
    "            pygame.init()\n",
    "            if self.render_mode == \"human\":\n",
    "                pygame.display.init()\n",
    "                self.screen = pygame.display.set_mode((screen_width, screen_height))\n",
    "            else:\n",
    "                pygame.font.init()\n",
    "                self.screen = pygame.Surface((screen_width, screen_height))\n",
    "\n",
    "        if not hasattr(self, \"clock\"):\n",
    "            self.clock = pygame.time.Clock()\n",
    "\n",
    "        self.screen.fill(bg_color)\n",
    "\n",
    "        def get_image(path):\n",
    "            cwd = os.path.dirname(__file__)\n",
    "            image = pygame.image.load(os.path.join(cwd, path))\n",
    "            return image\n",
    "\n",
    "        def get_font(path, size):\n",
    "            cwd = os.path.dirname(__file__)\n",
    "            font = pygame.font.Font(os.path.join(cwd, path), size)\n",
    "            return font\n",
    "\n",
    "        small_font = get_font(\n",
    "            os.path.join(\"font\", \"Minecraft.ttf\"), screen_height // 15\n",
    "        )\n",
    "        dealer_text = small_font.render(\n",
    "            \"Dealer: \" + str(dealer_card_value), True, white\n",
    "        )\n",
    "        dealer_text_rect = self.screen.blit(dealer_text, (spacing, spacing))\n",
    "\n",
    "        def scale_card_img(card_img):\n",
    "            return pygame.transform.scale(card_img, (card_img_width, card_img_height))\n",
    "\n",
    "        dealer_card_img = scale_card_img(\n",
    "            get_image(\n",
    "                os.path.join(\n",
    "                    \"img\",\n",
    "                    f\"{self.dealer_top_card_suit}{self.dealer_top_card_value_str}.png\",\n",
    "                )\n",
    "            )\n",
    "        )\n",
    "        dealer_card_rect = self.screen.blit(\n",
    "            dealer_card_img,\n",
    "            (\n",
    "                screen_width // 2 - card_img_width - spacing // 2,\n",
    "                dealer_text_rect.bottom + spacing,\n",
    "            ),\n",
    "        )\n",
    "\n",
    "        hidden_card_img = scale_card_img(get_image(os.path.join(\"img\", \"Card.png\")))\n",
    "        self.screen.blit(\n",
    "            hidden_card_img,\n",
    "            (\n",
    "                screen_width // 2 + spacing // 2,\n",
    "                dealer_text_rect.bottom + spacing,\n",
    "            ),\n",
    "        )\n",
    "\n",
    "        player_text = small_font.render(\"Player\", True, white)\n",
    "        player_text_rect = self.screen.blit(\n",
    "            player_text, (spacing, dealer_card_rect.bottom + 1.5 * spacing)\n",
    "        )\n",
    "\n",
    "        large_font = get_font(os.path.join(\"font\", \"Minecraft.ttf\"), screen_height // 6)\n",
    "        player_sum_text = large_font.render(str(player_sum), True, white)\n",
    "        player_sum_text_rect = self.screen.blit(\n",
    "            player_sum_text,\n",
    "            (\n",
    "                screen_width // 2 - player_sum_text.get_width() // 2,\n",
    "                player_text_rect.bottom + spacing,\n",
    "            ),\n",
    "        )\n",
    "\n",
    "        if usable_ace:\n",
    "            usable_ace_text = small_font.render(\"usable ace\", True, white)\n",
    "            self.screen.blit(\n",
    "                usable_ace_text,\n",
    "                (\n",
    "                    screen_width // 2 - usable_ace_text.get_width() // 2,\n",
    "                    player_sum_text_rect.bottom + spacing // 2,\n",
    "                ),\n",
    "            )\n",
    "        if self.render_mode == \"human\":\n",
    "            pygame.event.pump()\n",
    "            pygame.display.update()\n",
    "            self.clock.tick(self.metadata[\"render_fps\"])\n",
    "        else:\n",
    "            return np.transpose(\n",
    "                np.array(pygame.surfarray.pixels3d(self.screen)), axes=(1, 0, 2)\n",
    "            )\n",
    "\n",
    "    def close(self):\n",
    "        if hasattr(self, \"screen\"):\n",
    "            import pygame\n",
    "\n",
    "            pygame.display.quit()\n",
    "            pygame.quit()\n",
    "\n",
    "\n",
    "# Pixel art from Mariia Khmelnytska (https://www.123rf.com/photo_104453049_stock-vector-pixel-art-playing-cards-standart-deck-vector-set.html)"
   ]
  },
  {
   "cell_type": "code",
   "execution_count": 50,
   "id": "e1bf90d0",
   "metadata": {},
   "outputs": [
    {
     "data": {
      "application/vnd.jupyter.widget-view+json": {
       "model_id": "c6462e3b9238450689200eb0b0b33041",
       "version_major": 2,
       "version_minor": 0
      },
      "text/plain": [
       "  0%|          | 0/100000 [00:00<?, ?it/s]"
      ]
     },
     "metadata": {},
     "output_type": "display_data"
    }
   ],
   "source": [
    "env = BlackjackEnvDouble()\n",
    "agent = MCControlAgent(eps=0.1, n_action=3)\n",
    "agent.learn(env, n_episodes=int(1e5))"
   ]
  },
  {
   "cell_type": "code",
   "execution_count": 84,
   "id": "8dd05c55",
   "metadata": {},
   "outputs": [
    {
     "data": {
      "application/vnd.jupyter.widget-view+json": {
       "model_id": "8a58ccd18cc54f609e88c635a282f14e",
       "version_major": 2,
       "version_minor": 0
      },
      "text/plain": [
       "  0%|          | 0/8 [00:00<?, ?it/s]"
      ]
     },
     "metadata": {},
     "output_type": "display_data"
    },
    {
     "data": {
      "text/plain": [
       "<matplotlib.legend.Legend at 0x206dadc9060>"
      ]
     },
     "execution_count": 84,
     "metadata": {},
     "output_type": "execute_result"
    },
    {
     "data": {
      "image/png": "[encoded data removed]",
      "text/plain": [
       "<Figure size 576x288 with 1 Axes>"
      ]
     },
     "metadata": {
      "needs_background": "light"
     },
     "output_type": "display_data"
    }
   ],
   "source": [
    "%matplotlib inline\n",
    "plt.figure(figsize=(8, 4))\n",
    "plt.grid(True)\n",
    "plt.xlabel(\"n_episodes\")\n",
    "plt.ylabel(\"mean_reward\")\n",
    "plt.xscale(\"log\")\n",
    "env = BlackjackEnvDouble()\n",
    "for eps in [0.1]:\n",
    "    all_n_episodes = np.array([1, 10, 100, 1000, 10000, 100000, 1000000, 10000000], dtype=int)\n",
    "    mean_rewards = get_score_train_plot(MCControlAgent, env, all_n_episodes=all_n_episodes, n_avg=int(1e6), eps=eps, n_action=3)\n",
    "    plt.plot(all_n_episodes, mean_rewards, \".:\", label = f\"eps = {eps}\")\n",
    "    \n",
    "plt.legend()"
   ]
  },
  {
   "cell_type": "markdown",
   "id": "ca7b3386",
   "metadata": {},
   "source": [
    "Результат лучше чем в п 1 (-0.027 против -0.043).  Вдобавок агент продолжает учиться (нет насыщения), следовательно, его можно дообучить на еще более хороший результат. \n",
    "\n",
    "Пока что мы продолжаем проигрывать казино."
   ]
  },
  {
   "cell_type": "markdown",
   "id": "dfea8120",
   "metadata": {},
   "source": [
    "## 3 Хорошая память и подсчет карт вместе с удвоением ставки\n",
    "\n",
    "Снова пардон за копипасту.\n",
    "\n",
    "Пытался реализовать запоминание всех карт по отдельности. Не хватило памяти для хранения Q и policy (было нужно 90 Гб). Пришлось использовать бальную систему как это предлагалось в описании по предложенной ссылке на Википедию"
   ]
  },
  {
   "cell_type": "code",
   "execution_count": 86,
   "id": "aa6ca7a5",
   "metadata": {},
   "outputs": [],
   "source": [
    "from copy import copy\n",
    "\n",
    "class CountableDeck:\n",
    "    \n",
    "    def __init__(self, n_shuffle = 15):\n",
    "        self.default_deck = [1, 2, 3, 4, 5, 6, 7, 8, 9, 10, 10, 10, 10] * 4\n",
    "        self.deck = copy(self.default_deck)\n",
    "        self.n_deck = len(self.deck)\n",
    "        self.n_shuffle = n_shuffle\n",
    "        self.memorized_cards = 20 #Нужно для индексирования массива\n",
    "        \n",
    "    def draw_card(self, np_random):\n",
    "        \n",
    "        card = self.deck.pop(np_random.choice(np.arange(0, self.n_deck, dtype=int)))\n",
    "        self.n_deck -= 1\n",
    "        \n",
    "        ''' Подсчет каррт методом из википедии\n",
    "        2, 3, 4, 5, 6: +1\n",
    "        7, 8, 9: 0\n",
    "        10, В, Д, К, Т: -1\n",
    "        '''\n",
    "        if card in (2, 3, 4, 5, 6):\n",
    "            self.memorized_cards += 1\n",
    "        elif card in (1, 10):\n",
    "            self.memorized_cards -= 1\n",
    "        \n",
    "        if len(self.deck) < self.n_shuffle:\n",
    "            self.shuffle()\n",
    "            \n",
    "        return card\n",
    "    \n",
    "    def draw_hand(self, np_random):\n",
    "        return [self.draw_card(np_random), self.draw_card(np_random)]\n",
    "    \n",
    "    def shuffle(self):\n",
    "        self.memorized_cards = 20\n",
    "        self.deck = copy(self.default_deck)\n",
    "        self.n_deck = len(self.deck)\n",
    "    \n",
    "    def get_memorized_cards(self):\n",
    "        \n",
    "        \n",
    "        return self.memorized_cards\n",
    "\n",
    "\n",
    "class BlackjackEnvDoubleCount(gym.Env):\n",
    "    \"\"\"\n",
    "    Blackjack is a card game where the goal is to beat the dealer by obtaining cards\n",
    "    that sum to closer to 21 (without going over 21) than the dealers cards.\n",
    "    ### Description\n",
    "    Card Values:\n",
    "    - Face cards (Jack, Queen, King) have a point value of 10.\n",
    "    - Aces can either count as 11 (called a 'usable ace') or 1.\n",
    "    - Numerical cards (2-9) have a value equal to their number.\n",
    "    This game is played with an infinite deck (or with replacement).\n",
    "    The game starts with the dealer having one face up and one face down card,\n",
    "    while the player has two face up cards.\n",
    "    The player can request additional cards (hit, action=1) until they decide to stop (stick, action=0)\n",
    "    or exceed 21 (bust, immediate loss).\n",
    "    After the player sticks, the dealer reveals their facedown card, and draws\n",
    "    until their sum is 17 or greater.  If the dealer goes bust, the player wins.\n",
    "    If neither the player nor the dealer busts, the outcome (win, lose, draw) is\n",
    "    decided by whose sum is closer to 21.\n",
    "    ### Action Space\n",
    "    There are two actions: stick (0), hit (1), and double (2).\n",
    "    ### Observation Space\n",
    "    The observation consists of a 3-tuple containing: the player's current sum,\n",
    "    the value of the dealer's one showing card (1-10 where 1 is ace),\n",
    "    and whether the player holds a usable ace (0 or 1).\n",
    "    This environment corresponds to the version of the blackjack problem\n",
    "    described in Example 5.1 in Reinforcement Learning: An Introduction\n",
    "    by Sutton and Barto (http://incompleteideas.net/book/the-book-2nd.html).\n",
    "    ### Rewards\n",
    "    - win game: +1\n",
    "    - lose game: -1\n",
    "    - draw game: 0\n",
    "    - win game with natural blackjack:\n",
    "        +1.5 (if <a href=\"#nat\">natural</a> is True)\n",
    "        +1 (if <a href=\"#nat\">natural</a> is False)\n",
    "    ### Arguments\n",
    "    ```\n",
    "    gym.make('Blackjack-v1', natural=False, sab=False)\n",
    "    ```\n",
    "    <a id=\"nat\">`natural=False`</a>: Whether to give an additional reward for\n",
    "    starting with a natural blackjack, i.e. starting with an ace and ten (sum is 21).\n",
    "    <a id=\"sab\">`sab=False`</a>: Whether to follow the exact rules outlined in the book by\n",
    "    Sutton and Barto. If `sab` is `True`, the keyword argument `natural` will be ignored.\n",
    "    If the player achieves a natural blackjack and the dealer does not, the player\n",
    "    will win (i.e. get a reward of +1). The reverse rule does not apply.\n",
    "    If both the player and the dealer get a natural, it will be a draw (i.e. reward 0).\n",
    "    ### Version History\n",
    "    * v0: Initial versions release (1.0.0)\n",
    "    \"\"\"\n",
    "\n",
    "    metadata = {\n",
    "        \"render_modes\": [\"human\", \"rgb_array\"],\n",
    "        \"render_fps\": 4,\n",
    "    }\n",
    "\n",
    "    def __init__(self, render_mode: Optional[str] = None, natural=False, sab=False):\n",
    "        self.action_space = spaces.Discrete(3, start=0)\n",
    "        self.observation_space = spaces.Tuple(\n",
    "            (spaces.Discrete(32), spaces.Discrete(11), spaces.Discrete(2), spaces.Discrete(41))\n",
    "        )\n",
    "\n",
    "        # Flag to payout 1.5 on a \"natural\" blackjack win, like casino rules\n",
    "        # Ref: http://www.bicyclecards.com/how-to-play/blackjack/\n",
    "        self.natural = natural\n",
    "\n",
    "        # Flag for full agreement with the (Sutton and Barto, 2018) definition. Overrides self.natural\n",
    "        self.sab = sab\n",
    "\n",
    "        self.render_mode = render_mode\n",
    "        self.deck = CountableDeck(n_shuffle=15)\n",
    "\n",
    "    def step(self, action):\n",
    "        assert self.action_space.contains(action)\n",
    "        if action == 2: # Double\n",
    "            self.player.append(self.deck.draw_card(self.np_random))\n",
    "            terminated = True\n",
    "            if is_bust(self.player):\n",
    "                reward = -2.0\n",
    "            else:\n",
    "                while sum_hand(self.dealer) < 17:\n",
    "                    self.dealer.append(self.deck.draw_card(self.np_random))\n",
    "                reward = 2 * cmp(score(self.player), score(self.dealer))\n",
    "                \n",
    "                if self.sab and is_natural(self.player) and not is_natural(self.dealer):\n",
    "                # Player automatically wins. Rules consistent with S&B\n",
    "                    reward = 2.0\n",
    "        elif action == 1:  # hit: add a card to players hand and return\n",
    "            self.player.append(self.deck.draw_card(self.np_random))\n",
    "            if is_bust(self.player):\n",
    "                terminated = True\n",
    "                reward = -1.0\n",
    "            else:\n",
    "                terminated = False\n",
    "                reward = 0.0\n",
    "        else:  # stick: play out the dealers hand, and score\n",
    "            terminated = True\n",
    "            while sum_hand(self.dealer) < 17:\n",
    "                self.dealer.append(self.deck.draw_card(self.np_random))\n",
    "            reward = cmp(score(self.player), score(self.dealer))\n",
    "            if self.sab and is_natural(self.player) and not is_natural(self.dealer):\n",
    "                # Player automatically wins. Rules consistent with S&B\n",
    "                reward = 1.0\n",
    "            elif (\n",
    "                not self.sab\n",
    "                and self.natural\n",
    "                and is_natural(self.player)\n",
    "                and reward == 1.0\n",
    "            ):\n",
    "                # Natural gives extra points, but doesn't autowin. Legacy implementation\n",
    "                reward = 1.5\n",
    "\n",
    "        if self.render_mode == \"human\":\n",
    "            self.render()\n",
    "        return self._get_obs(), reward, terminated, False, {}\n",
    "\n",
    "    def _get_obs(self):\n",
    "        return (sum_hand(self.player), self.dealer[0], usable_ace(self.player), self.deck.get_memorized_cards())\n",
    "\n",
    "    def reset(\n",
    "        self,\n",
    "        seed: Optional[int] = None,\n",
    "        options: Optional[dict] = None,\n",
    "    ):\n",
    "        super().reset(seed=seed)\n",
    "        self.dealer = self.deck.draw_hand(self.np_random)\n",
    "        self.player = self.deck.draw_hand(self.np_random)\n",
    "\n",
    "        _, dealer_card_value, _ , _ = self._get_obs()\n",
    "\n",
    "        suits = [\"C\", \"D\", \"H\", \"S\"]\n",
    "        self.dealer_top_card_suit = self.np_random.choice(suits)\n",
    "\n",
    "        if dealer_card_value == 1:\n",
    "            self.dealer_top_card_value_str = \"A\"\n",
    "        elif dealer_card_value == 10:\n",
    "            self.dealer_top_card_value_str = self.np_random.choice([\"J\", \"Q\", \"K\"])\n",
    "        else:\n",
    "            self.dealer_top_card_value_str = str(dealer_card_value)\n",
    "\n",
    "        if self.render_mode == \"human\":\n",
    "            self.render()\n",
    "        return self._get_obs(), {}\n",
    "\n",
    "    def render(self):\n",
    "        if self.render_mode is None:\n",
    "            gym.logger.warn(\n",
    "                \"You are calling render method without specifying any render mode. \"\n",
    "                \"You can specify the render_mode at initialization, \"\n",
    "                f'e.g. gym(\"{self.spec.id}\", render_mode=\"rgb_array\")'\n",
    "            )\n",
    "            return\n",
    "\n",
    "        try:\n",
    "            import pygame\n",
    "        except ImportError:\n",
    "            raise DependencyNotInstalled(\n",
    "                \"pygame is not installed, run `pip install gym[toy_text]`\"\n",
    "            )\n",
    "\n",
    "        player_sum, dealer_card_value, usable_ace = self._get_obs()\n",
    "        screen_width, screen_height = 600, 500\n",
    "        card_img_height = screen_height // 3\n",
    "        card_img_width = int(card_img_height * 142 / 197)\n",
    "        spacing = screen_height // 20\n",
    "\n",
    "        bg_color = (7, 99, 36)\n",
    "        white = (255, 255, 255)\n",
    "\n",
    "        if not hasattr(self, \"screen\"):\n",
    "            pygame.init()\n",
    "            if self.render_mode == \"human\":\n",
    "                pygame.display.init()\n",
    "                self.screen = pygame.display.set_mode((screen_width, screen_height))\n",
    "            else:\n",
    "                pygame.font.init()\n",
    "                self.screen = pygame.Surface((screen_width, screen_height))\n",
    "\n",
    "        if not hasattr(self, \"clock\"):\n",
    "            self.clock = pygame.time.Clock()\n",
    "\n",
    "        self.screen.fill(bg_color)\n",
    "\n",
    "        def get_image(path):\n",
    "            cwd = os.path.dirname(__file__)\n",
    "            image = pygame.image.load(os.path.join(cwd, path))\n",
    "            return image\n",
    "\n",
    "        def get_font(path, size):\n",
    "            cwd = os.path.dirname(__file__)\n",
    "            font = pygame.font.Font(os.path.join(cwd, path), size)\n",
    "            return font\n",
    "\n",
    "        small_font = get_font(\n",
    "            os.path.join(\"font\", \"Minecraft.ttf\"), screen_height // 15\n",
    "        )\n",
    "        dealer_text = small_font.render(\n",
    "            \"Dealer: \" + str(dealer_card_value), True, white\n",
    "        )\n",
    "        dealer_text_rect = self.screen.blit(dealer_text, (spacing, spacing))\n",
    "\n",
    "        def scale_card_img(card_img):\n",
    "            return pygame.transform.scale(card_img, (card_img_width, card_img_height))\n",
    "\n",
    "        dealer_card_img = scale_card_img(\n",
    "            get_image(\n",
    "                os.path.join(\n",
    "                    \"img\",\n",
    "                    f\"{self.dealer_top_card_suit}{self.dealer_top_card_value_str}.png\",\n",
    "                )\n",
    "            )\n",
    "        )\n",
    "        dealer_card_rect = self.screen.blit(\n",
    "            dealer_card_img,\n",
    "            (\n",
    "                screen_width // 2 - card_img_width - spacing // 2,\n",
    "                dealer_text_rect.bottom + spacing,\n",
    "            ),\n",
    "        )\n",
    "\n",
    "        hidden_card_img = scale_card_img(get_image(os.path.join(\"img\", \"Card.png\")))\n",
    "        self.screen.blit(\n",
    "            hidden_card_img,\n",
    "            (\n",
    "                screen_width // 2 + spacing // 2,\n",
    "                dealer_text_rect.bottom + spacing,\n",
    "            ),\n",
    "        )\n",
    "\n",
    "        player_text = small_font.render(\"Player\", True, white)\n",
    "        player_text_rect = self.screen.blit(\n",
    "            player_text, (spacing, dealer_card_rect.bottom + 1.5 * spacing)\n",
    "        )\n",
    "\n",
    "        large_font = get_font(os.path.join(\"font\", \"Minecraft.ttf\"), screen_height // 6)\n",
    "        player_sum_text = large_font.render(str(player_sum), True, white)\n",
    "        player_sum_text_rect = self.screen.blit(\n",
    "            player_sum_text,\n",
    "            (\n",
    "                screen_width // 2 - player_sum_text.get_width() // 2,\n",
    "                player_text_rect.bottom + spacing,\n",
    "            ),\n",
    "        )\n",
    "\n",
    "        if usable_ace:\n",
    "            usable_ace_text = small_font.render(\"usable ace\", True, white)\n",
    "            self.screen.blit(\n",
    "                usable_ace_text,\n",
    "                (\n",
    "                    screen_width // 2 - usable_ace_text.get_width() // 2,\n",
    "                    player_sum_text_rect.bottom + spacing // 2,\n",
    "                ),\n",
    "            )\n",
    "        if self.render_mode == \"human\":\n",
    "            pygame.event.pump()\n",
    "            pygame.display.update()\n",
    "            self.clock.tick(self.metadata[\"render_fps\"])\n",
    "        else:\n",
    "            return np.transpose(\n",
    "                np.array(pygame.surfarray.pixels3d(self.screen)), axes=(1, 0, 2)\n",
    "            )\n",
    "\n",
    "    def close(self):\n",
    "        if hasattr(self, \"screen\"):\n",
    "            import pygame\n",
    "\n",
    "            pygame.display.quit()\n",
    "            pygame.quit()\n",
    "\n",
    "\n",
    "# Pixel art from Mariia Khmelnytska (https://www.123rf.com/photo_104453049_stock-vector-pixel-art-playing-cards-standart-deck-vector-set.html)"
   ]
  },
  {
   "cell_type": "code",
   "execution_count": 78,
   "id": "853a6473",
   "metadata": {
    "scrolled": true
   },
   "outputs": [
    {
     "data": {
      "application/vnd.jupyter.widget-view+json": {
       "model_id": "27016fe7f5044138b3376e0329cd3bc0",
       "version_major": 2,
       "version_minor": 0
      },
      "text/plain": [
       "  0%|          | 0/10000000 [00:00<?, ?it/s]"
      ]
     },
     "metadata": {},
     "output_type": "display_data"
    }
   ],
   "source": [
    "env = BlackjackEnvDoubleCount()\n",
    "agent = MCControlAgent(eps=0.1, n_space=(32, 11, 2, 41), n_action=3,)\n",
    "agent.learn(env, n_episodes=int(1e7))"
   ]
  },
  {
   "cell_type": "code",
   "execution_count": 79,
   "id": "a0bdee95",
   "metadata": {},
   "outputs": [
    {
     "data": {
      "application/vnd.jupyter.widget-view+json": {
       "model_id": "772f4d4b92044c1dbda6a2a9d6c69dd0",
       "version_major": 2,
       "version_minor": 0
      },
      "text/plain": [
       "  0%|          | 0/1000000 [00:00<?, ?it/s]"
      ]
     },
     "metadata": {},
     "output_type": "display_data"
    },
    {
     "data": {
      "text/plain": [
       "-0.024033"
      ]
     },
     "execution_count": 79,
     "metadata": {},
     "output_type": "execute_result"
    }
   ],
   "source": [
    "agent.evaluate_agent(env, n_avg=int(1e6))"
   ]
  },
  {
   "cell_type": "code",
   "execution_count": 89,
   "id": "be79f18c",
   "metadata": {},
   "outputs": [
    {
     "data": {
      "application/vnd.jupyter.widget-view+json": {
       "model_id": "91bc99eaedf64365840e028f9fbd6eb6",
       "version_major": 2,
       "version_minor": 0
      },
      "text/plain": [
       "  0%|          | 0/9 [00:00<?, ?it/s]"
      ]
     },
     "metadata": {},
     "output_type": "display_data"
    },
    {
     "data": {
      "text/plain": [
       "<matplotlib.legend.Legend at 0x206dc72d180>"
      ]
     },
     "execution_count": 89,
     "metadata": {},
     "output_type": "execute_result"
    },
    {
     "data": {
      "image/png": "[encoded data removed]",
      "text/plain": [
       "<Figure size 576x288 with 1 Axes>"
      ]
     },
     "metadata": {
      "needs_background": "light"
     },
     "output_type": "display_data"
    }
   ],
   "source": [
    "%matplotlib inline\n",
    "plt.figure(figsize=(8, 4))\n",
    "plt.grid(True)\n",
    "plt.xlabel(\"n_episodes\")\n",
    "plt.ylabel(\"mean_reward\")\n",
    "plt.xscale(\"log\")\n",
    "env = BlackjackEnvDoubleCount()\n",
    "for eps in [0.1]:\n",
    "    all_n_episodes = np.array([1, 10, 100, 1000, 10000, 100000, 1000000, 10000000, 100000000], dtype=int)\n",
    "    mean_rewards = get_score_train_plot(MCControlAgent, env, all_n_episodes=all_n_episodes, n_avg=int(1e6), eps=eps, n_action=3, n_space=(32, 11, 2, 41))\n",
    "    plt.plot(all_n_episodes, mean_rewards, \".:\", label = f\"eps = {eps}\")\n",
    "    \n",
    "plt.legend()"
   ]
  },
  {
   "cell_type": "markdown",
   "id": "465628c6",
   "metadata": {},
   "source": [
    "Стало еще лучше по сравнению с предыдущим пунктом. Средний выигрыш > -0.025. Однако казино все равно выигрывает. Возможно, применение off-policy алгоритмов и более тщательный подбор гиперпараметров нам бы помог обыграть казино. Тем не менее наш алгоритм работает и показывает адекватные результаты. На этом хотелось бы подытожить выполнение этого задания."
   ]
  }
 ],
 "metadata": {
  "kernelspec": {
   "display_name": "Python 3 (ipykernel)",
   "language": "python",
   "name": "python3"
  },
  "language_info": {
   "codemirror_mode": {
    "name": "ipython",
    "version": 3
   },
   "file_extension": ".py",
   "mimetype": "text/x-python",
   "name": "python",
   "nbconvert_exporter": "python",
   "pygments_lexer": "ipython3",
   "version": "3.10.4"
  }
 },
 "nbformat": 4,
 "nbformat_minor": 5
}
